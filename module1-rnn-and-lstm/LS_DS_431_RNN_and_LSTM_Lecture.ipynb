{
 "cells": [
  {
   "cell_type": "markdown",
   "metadata": {
    "colab_type": "text",
    "id": "_IizNKWLomoA"
   },
   "source": [
    "<img align=\"left\" src=\"https://lever-client-logos.s3.amazonaws.com/864372b1-534c-480e-acd5-9711f850815c-1524247202159.png\" width=200>\n",
    "<br></br>\n",
    "<br></br>\n",
    "\n",
    "## *Data Science Unit 4 Sprint 3 Lesson 1*\n",
    "\n",
    "# Recurrent Neural Networks and Long Short Term Memory (LSTM)\n",
    "## _aka_ PREDICTING THE FUTURE!\n",
    "\n",
    "<img src=\"https://media.giphy.com/media/l2JJu8U8SoHhQEnoQ/giphy.gif\" width=480 height=356>\n",
    "<br></br>\n",
    "<br></br>\n",
    "\n",
    "> \"Yesterday's just a memory - tomorrow is never what it's supposed to be.\" -- Bob Dylan\n",
    "\n",
    "Wish you could save [Time In A Bottle](https://www.youtube.com/watch?v=AnWWj6xOleY)? With statistics you can do the next best thing - understand how data varies over time (or any sequential order), and use the order/time dimension predictively.\n",
    "\n",
    "A sequence is just any enumerated collection - order counts, and repetition is allowed. Python lists are a good elemental example - `[1, 2, 2, -1]` is a valid list, and is different from `[1, 2, -1, 2]`. The data structures we tend to use (e.g. NumPy arrays) are often built on this fundamental structure.\n",
    "\n",
    "A time series is data where you have not just the order but some actual continuous marker for where they lie \"in time\" - this could be a date, a timestamp, [Unix time](https://en.wikipedia.org/wiki/Unix_time), or something else. All time series are also sequences, and for some techniques you may just consider their order and not \"how far apart\" the entries are (if you have particularly consistent data collected at regular intervals it may not matter)."
   ]
  },
  {
   "cell_type": "markdown",
   "metadata": {
    "colab_type": "text",
    "id": "44QZgrPUe3-Y"
   },
   "source": [
    "## Recurrent Neural Networks\n",
    "\n",
    "There's plenty more to \"traditional\" time series, but the latest and greatest technique for sequence data is recurrent neural networks. A recurrence relation in math is an equation that uses recursion to define a sequence - a famous example is the Fibonacci numbers:\n",
    "\n",
    "$F_n = F_{n-1} + F_{n-2}$\n",
    "\n",
    "For formal math you also need a base case $F_0=1, F_1=1$, and then the rest builds from there. But for neural networks what we're really talking about are loops:\n",
    "\n",
    "![Recurrent neural network](https://upload.wikimedia.org/wikipedia/commons/b/b5/Recurrent_neural_network_unfold.svg)\n",
    "\n",
    "The hidden layers have edges (output) going back to their own input - this loop means that for any time `t` the training is at least partly based on the output from time `t-1`. The entire network is being represented on the left, and you can unfold the network explicitly to see how it behaves at any given `t`.\n",
    "\n",
    "Different units can have this \"loop\", but a particularly successful one is the long short-term memory unit (LSTM):\n",
    "\n",
    "![Long short-term memory unit](https://upload.wikimedia.org/wikipedia/commons/thumb/6/63/Long_Short-Term_Memory.svg/1024px-Long_Short-Term_Memory.svg.png)\n",
    "\n",
    "There's a lot going on here - in a nutshell, the calculus still works out and backpropagation can still be implemented. The advantage (ane namesake) of LSTM is that it can generally put more weight on recent (short-term) events while not completely losing older (long-term) information.\n",
    "\n",
    "After enough iterations, a typical neural network will start calculating prior gradients that are so small they effectively become zero - this is the [vanishing gradient problem](https://en.wikipedia.org/wiki/Vanishing_gradient_problem), and is what RNN with LSTM addresses. Pay special attention to the $c_t$ parameters and how they pass through the unit to get an intuition for how this problem is solved.\n",
    "\n",
    "So why are these cool? One particularly compelling application is actually not time series but language modeling - language is inherently ordered data (letters/words go one after another, and the order *matters*). [The Unreasonable Effectiveness of Recurrent Neural Networks](https://karpathy.github.io/2015/05/21/rnn-effectiveness/) is a famous and worth reading blog post on this topic.\n",
    "\n",
    "For our purposes, let's use TensorFlow and Keras to train RNNs with natural language. Resources:\n",
    "\n",
    "- https://github.com/keras-team/keras/blob/master/examples/imdb_lstm.py\n",
    "- https://keras.io/layers/recurrent/#lstm\n",
    "- http://adventuresinmachinelearning.com/keras-lstm-tutorial/\n",
    "\n",
    "Note that `tensorflow.contrib` [also has an implementation of RNN/LSTM](https://www.tensorflow.org/tutorials/sequences/recurrent)."
   ]
  },
  {
   "cell_type": "markdown",
   "metadata": {
    "colab_type": "text",
    "id": "eWrQllf8WEd-"
   },
   "source": [
    "### RNN/LSTM Sentiment Classification with Keras"
   ]
  },
  {
   "cell_type": "code",
   "execution_count": 5,
   "metadata": {
    "colab": {
     "base_uri": "https://localhost:8080/",
     "height": 975
    },
    "colab_type": "code",
    "id": "Ti23G0gRe3kr",
    "outputId": "bba9ae40-a286-49ed-d87b-b2946fb60ddf"
   },
   "outputs": [
    {
     "name": "stdout",
     "output_type": "stream",
     "text": [
      "Loading data...\n",
      "25000 train sequences\n",
      "25000 test sequences\n"
     ]
    }
   ],
   "source": [
    "'''\n",
    "#Trains an LSTM model on the IMDB sentiment classification task.\n",
    "The dataset is actually too small for LSTM to be of any advantage\n",
    "compared to simpler, much faster methods such as TF-IDF + LogReg.\n",
    "**Notes**\n",
    "- RNNs are tricky. Choice of batch size is important,\n",
    "choice of loss and optimizer is critical, etc.\n",
    "Some configurations won't converge.\n",
    "- LSTM loss decrease patterns during training can be quite different\n",
    "from what you see with CNNs/MLPs/etc.\n",
    "'''\n",
    "import warnings\n",
    "warnings.filterwarnings(\"ignore\")\n",
    "\n",
    "from __future__ import print_function\n",
    "\n",
    "from keras.preprocessing import sequence\n",
    "from keras.models import Sequential\n",
    "from keras.layers import Dense, Embedding\n",
    "from keras.layers import LSTM\n",
    "from keras.datasets import imdb\n",
    "\n",
    "import numpy as np\n",
    "# save np.load\n",
    "np_load_old = np.load\n",
    "\n",
    "# modify the default parameters of np.load\n",
    "np.load = lambda *a,**k: np_load_old(*a, allow_pickle=True, **k)\n",
    "\n",
    "max_features = 20000\n",
    "# cut texts after this number of words (among top max_features most common words)\n",
    "maxlen = 80\n",
    "batch_size = 32\n",
    "\n",
    "print('Loading data...')\n",
    "(x_train, y_train), (x_test, y_test) = imdb.load_data(num_words=10000)\n",
    "print(len(x_train), 'train sequences')\n",
    "print(len(x_test), 'test sequences')\n",
    "\n",
    "# restore np.load for future normal usage\n",
    "np.load = np_load_old"
   ]
  },
  {
   "cell_type": "code",
   "execution_count": 6,
   "metadata": {},
   "outputs": [
    {
     "data": {
      "text/plain": [
       "[1,\n",
       " 14,\n",
       " 22,\n",
       " 16,\n",
       " 43,\n",
       " 530,\n",
       " 973,\n",
       " 1622,\n",
       " 1385,\n",
       " 65,\n",
       " 458,\n",
       " 4468,\n",
       " 66,\n",
       " 3941,\n",
       " 4,\n",
       " 173,\n",
       " 36,\n",
       " 256,\n",
       " 5,\n",
       " 25,\n",
       " 100,\n",
       " 43,\n",
       " 838,\n",
       " 112,\n",
       " 50,\n",
       " 670,\n",
       " 2,\n",
       " 9,\n",
       " 35,\n",
       " 480,\n",
       " 284,\n",
       " 5,\n",
       " 150,\n",
       " 4,\n",
       " 172,\n",
       " 112,\n",
       " 167,\n",
       " 2,\n",
       " 336,\n",
       " 385,\n",
       " 39,\n",
       " 4,\n",
       " 172,\n",
       " 4536,\n",
       " 1111,\n",
       " 17,\n",
       " 546,\n",
       " 38,\n",
       " 13,\n",
       " 447,\n",
       " 4,\n",
       " 192,\n",
       " 50,\n",
       " 16,\n",
       " 6,\n",
       " 147,\n",
       " 2025,\n",
       " 19,\n",
       " 14,\n",
       " 22,\n",
       " 4,\n",
       " 1920,\n",
       " 4613,\n",
       " 469,\n",
       " 4,\n",
       " 22,\n",
       " 71,\n",
       " 87,\n",
       " 12,\n",
       " 16,\n",
       " 43,\n",
       " 530,\n",
       " 38,\n",
       " 76,\n",
       " 15,\n",
       " 13,\n",
       " 1247,\n",
       " 4,\n",
       " 22,\n",
       " 17,\n",
       " 515,\n",
       " 17,\n",
       " 12,\n",
       " 16,\n",
       " 626,\n",
       " 18,\n",
       " 2,\n",
       " 5,\n",
       " 62,\n",
       " 386,\n",
       " 12,\n",
       " 8,\n",
       " 316,\n",
       " 8,\n",
       " 106,\n",
       " 5,\n",
       " 4,\n",
       " 2223,\n",
       " 5244,\n",
       " 16,\n",
       " 480,\n",
       " 66,\n",
       " 3785,\n",
       " 33,\n",
       " 4,\n",
       " 130,\n",
       " 12,\n",
       " 16,\n",
       " 38,\n",
       " 619,\n",
       " 5,\n",
       " 25,\n",
       " 124,\n",
       " 51,\n",
       " 36,\n",
       " 135,\n",
       " 48,\n",
       " 25,\n",
       " 1415,\n",
       " 33,\n",
       " 6,\n",
       " 22,\n",
       " 12,\n",
       " 215,\n",
       " 28,\n",
       " 77,\n",
       " 52,\n",
       " 5,\n",
       " 14,\n",
       " 407,\n",
       " 16,\n",
       " 82,\n",
       " 2,\n",
       " 8,\n",
       " 4,\n",
       " 107,\n",
       " 117,\n",
       " 5952,\n",
       " 15,\n",
       " 256,\n",
       " 4,\n",
       " 2,\n",
       " 7,\n",
       " 3766,\n",
       " 5,\n",
       " 723,\n",
       " 36,\n",
       " 71,\n",
       " 43,\n",
       " 530,\n",
       " 476,\n",
       " 26,\n",
       " 400,\n",
       " 317,\n",
       " 46,\n",
       " 7,\n",
       " 4,\n",
       " 2,\n",
       " 1029,\n",
       " 13,\n",
       " 104,\n",
       " 88,\n",
       " 4,\n",
       " 381,\n",
       " 15,\n",
       " 297,\n",
       " 98,\n",
       " 32,\n",
       " 2071,\n",
       " 56,\n",
       " 26,\n",
       " 141,\n",
       " 6,\n",
       " 194,\n",
       " 7486,\n",
       " 18,\n",
       " 4,\n",
       " 226,\n",
       " 22,\n",
       " 21,\n",
       " 134,\n",
       " 476,\n",
       " 26,\n",
       " 480,\n",
       " 5,\n",
       " 144,\n",
       " 30,\n",
       " 5535,\n",
       " 18,\n",
       " 51,\n",
       " 36,\n",
       " 28,\n",
       " 224,\n",
       " 92,\n",
       " 25,\n",
       " 104,\n",
       " 4,\n",
       " 226,\n",
       " 65,\n",
       " 16,\n",
       " 38,\n",
       " 1334,\n",
       " 88,\n",
       " 12,\n",
       " 16,\n",
       " 283,\n",
       " 5,\n",
       " 16,\n",
       " 4472,\n",
       " 113,\n",
       " 103,\n",
       " 32,\n",
       " 15,\n",
       " 16,\n",
       " 5345,\n",
       " 19,\n",
       " 178,\n",
       " 32]"
      ]
     },
     "execution_count": 6,
     "metadata": {},
     "output_type": "execute_result"
    }
   ],
   "source": [
    "x_train[0]"
   ]
  },
  {
   "cell_type": "code",
   "execution_count": 7,
   "metadata": {},
   "outputs": [],
   "source": [
    "x_train = sequence.pad_sequences(x_train, maxlen=maxlen)"
   ]
  },
  {
   "cell_type": "code",
   "execution_count": 8,
   "metadata": {},
   "outputs": [
    {
     "data": {
      "text/plain": [
       "array([  15,  256,    4,    2,    7, 3766,    5,  723,   36,   71,   43,\n",
       "        530,  476,   26,  400,  317,   46,    7,    4,    2, 1029,   13,\n",
       "        104,   88,    4,  381,   15,  297,   98,   32, 2071,   56,   26,\n",
       "        141,    6,  194, 7486,   18,    4,  226,   22,   21,  134,  476,\n",
       "         26,  480,    5,  144,   30, 5535,   18,   51,   36,   28,  224,\n",
       "         92,   25,  104,    4,  226,   65,   16,   38, 1334,   88,   12,\n",
       "         16,  283,    5,   16, 4472,  113,  103,   32,   15,   16, 5345,\n",
       "         19,  178,   32], dtype=int32)"
      ]
     },
     "execution_count": 8,
     "metadata": {},
     "output_type": "execute_result"
    }
   ],
   "source": [
    "x_train[0]"
   ]
  },
  {
   "cell_type": "code",
   "execution_count": null,
   "metadata": {},
   "outputs": [],
   "source": [
    "print('Pad sequences (samples x time)')\n",
    "x_train = sequence.pad_sequences(x_train, maxlen=maxlen)\n",
    "x_test = sequence.pad_sequences(x_test, maxlen=maxlen)\n",
    "print('x_train shape:', x_train.shape)\n",
    "print('x_test shape:', x_test.shape)\n",
    "\n",
    "print('Build model...')\n",
    "model = Sequential()\n",
    "model.add(Embedding(max_features, 128))\n",
    "model.add(LSTM(128, dropout=0.2, recurrent_dropout=0.2))\n",
    "model.add(Dense(1, activation='sigmoid'))\n",
    "\n",
    "# try using different optimizers and different optimizer configs\n",
    "model.compile(loss='binary_crossentropy',\n",
    "              optimizer='adam',\n",
    "              metrics=['accuracy'])\n",
    "\n",
    "print('Train...')\n",
    "model.fit(x_train, y_train,\n",
    "          batch_size=batch_size,\n",
    "          epochs=15,\n",
    "          validation_data=(x_test, y_test))\n",
    "score, acc = model.evaluate(x_test, y_test,\n",
    "                            batch_size=batch_size)\n",
    "print('Test score:', score)\n",
    "print('Test accuracy:', acc)"
   ]
  },
  {
   "cell_type": "code",
   "execution_count": null,
   "metadata": {},
   "outputs": [],
   "source": []
  },
  {
   "cell_type": "markdown",
   "metadata": {
    "colab_type": "text",
    "id": "7pETWPIe362y"
   },
   "source": [
    "### RNN Text generation with NumPy\n",
    "\n",
    "What else can we do with RNN? Since we're analyzing the *sequence*, we can do more than classify - we can *generate* text. We'll pull some news stories using [newspaper](https://github.com/codelucas/newspaper/)."
   ]
  },
  {
   "cell_type": "markdown",
   "metadata": {
    "colab_type": "text",
    "id": "fz1m55G5WSrQ"
   },
   "source": [
    "#### Initialization"
   ]
  },
  {
   "cell_type": "code",
   "execution_count": 9,
   "metadata": {
    "colab": {
     "base_uri": "https://localhost:8080/",
     "height": 836
    },
    "colab_type": "code",
    "id": "ahlHBeoZCaLX",
    "outputId": "7b1c5f93-3fa5-42db-acb6-3c894b0accef"
   },
   "outputs": [
    {
     "name": "stdout",
     "output_type": "stream",
     "text": [
      "Collecting newspaper3k\n",
      "\u001b[?25l  Downloading https://files.pythonhosted.org/packages/d7/b9/51afecb35bb61b188a4b44868001de348a0e8134b4dfa00ffc191567c4b9/newspaper3k-0.2.8-py3-none-any.whl (211kB)\n",
      "\u001b[K    100% |████████████████████████████████| 215kB 34.3MB/s ta 0:00:01\n",
      "\u001b[?25hRequirement already satisfied: requests>=2.10.0 in /home/ec2-user/anaconda3/envs/tensorflow_p36/lib/python3.6/site-packages (from newspaper3k) (2.20.0)\n",
      "Requirement already satisfied: PyYAML>=3.11 in /home/ec2-user/anaconda3/envs/tensorflow_p36/lib/python3.6/site-packages (from newspaper3k) (3.12)\n",
      "Collecting feedparser>=5.2.1 (from newspaper3k)\n",
      "\u001b[?25l  Downloading https://files.pythonhosted.org/packages/91/d8/7d37fec71ff7c9dbcdd80d2b48bcdd86d6af502156fc93846fb0102cb2c4/feedparser-5.2.1.tar.bz2 (192kB)\n",
      "\u001b[K    100% |████████████████████████████████| 194kB 400kB/s ta 0:00:011\n",
      "\u001b[?25hCollecting feedfinder2>=0.0.4 (from newspaper3k)\n",
      "  Downloading https://files.pythonhosted.org/packages/35/82/1251fefec3bb4b03fd966c7e7f7a41c9fc2bb00d823a34c13f847fd61406/feedfinder2-0.0.4.tar.gz\n",
      "Requirement already satisfied: Pillow>=3.3.0 in /home/ec2-user/anaconda3/envs/tensorflow_p36/lib/python3.6/site-packages (from newspaper3k) (5.2.0)\n",
      "Requirement already satisfied: lxml>=3.6.0 in /home/ec2-user/anaconda3/envs/tensorflow_p36/lib/python3.6/site-packages (from newspaper3k) (4.2.1)\n",
      "Collecting tinysegmenter==0.3 (from newspaper3k)\n",
      "  Downloading https://files.pythonhosted.org/packages/17/82/86982e4b6d16e4febc79c2a1d68ee3b707e8a020c5d2bc4af8052d0f136a/tinysegmenter-0.3.tar.gz\n",
      "Requirement already satisfied: nltk>=3.2.1 in /home/ec2-user/anaconda3/envs/tensorflow_p36/lib/python3.6/site-packages (from newspaper3k) (3.3)\n",
      "Requirement already satisfied: beautifulsoup4>=4.4.1 in /home/ec2-user/anaconda3/envs/tensorflow_p36/lib/python3.6/site-packages (from newspaper3k) (4.6.0)\n",
      "Collecting cssselect>=0.9.2 (from newspaper3k)\n",
      "  Downloading https://files.pythonhosted.org/packages/3b/d4/3b5c17f00cce85b9a1e6f91096e1cc8e8ede2e1be8e96b87ce1ed09e92c5/cssselect-1.1.0-py2.py3-none-any.whl\n",
      "Collecting jieba3k>=0.35.1 (from newspaper3k)\n",
      "\u001b[?25l  Downloading https://files.pythonhosted.org/packages/a9/cb/2c8332bcdc14d33b0bedd18ae0a4981a069c3513e445120da3c3f23a8aaa/jieba3k-0.35.1.zip (7.4MB)\n",
      "\u001b[K    100% |████████████████████████████████| 7.4MB 2.2MB/s eta 0:00:01\n",
      "\u001b[?25hRequirement already satisfied: python-dateutil>=2.5.3 in /home/ec2-user/anaconda3/envs/tensorflow_p36/lib/python3.6/site-packages (from newspaper3k) (2.7.3)\n",
      "Collecting tldextract>=2.0.1 (from newspaper3k)\n",
      "\u001b[?25l  Downloading https://files.pythonhosted.org/packages/1e/90/18ac0e5340b6228c25cc8e79835c3811e7553b2b9ae87296dfeb62b7866d/tldextract-2.2.1-py2.py3-none-any.whl (48kB)\n",
      "\u001b[K    100% |████████████████████████████████| 51kB 26.8MB/s ta 0:00:01\n",
      "\u001b[?25hRequirement already satisfied: chardet<3.1.0,>=3.0.2 in /home/ec2-user/anaconda3/envs/tensorflow_p36/lib/python3.6/site-packages (from requests>=2.10.0->newspaper3k) (3.0.4)\n",
      "Requirement already satisfied: idna<2.8,>=2.5 in /home/ec2-user/anaconda3/envs/tensorflow_p36/lib/python3.6/site-packages (from requests>=2.10.0->newspaper3k) (2.6)\n",
      "Requirement already satisfied: urllib3<1.25,>=1.21.1 in /home/ec2-user/anaconda3/envs/tensorflow_p36/lib/python3.6/site-packages (from requests>=2.10.0->newspaper3k) (1.23)\n",
      "Requirement already satisfied: certifi>=2017.4.17 in /home/ec2-user/anaconda3/envs/tensorflow_p36/lib/python3.6/site-packages (from requests>=2.10.0->newspaper3k) (2019.6.16)\n",
      "Requirement already satisfied: six in /home/ec2-user/anaconda3/envs/tensorflow_p36/lib/python3.6/site-packages (from feedfinder2>=0.0.4->newspaper3k) (1.11.0)\n",
      "Requirement already satisfied: setuptools in /home/ec2-user/anaconda3/envs/tensorflow_p36/lib/python3.6/site-packages (from tldextract>=2.0.1->newspaper3k) (41.0.1)\n",
      "Collecting requests-file>=1.4 (from tldextract>=2.0.1->newspaper3k)\n",
      "  Downloading https://files.pythonhosted.org/packages/23/9c/6e63c23c39e53d3df41c77a3d05a49a42c4e1383a6d2a5e3233161b89dbf/requests_file-1.4.3-py2.py3-none-any.whl\n",
      "Building wheels for collected packages: feedparser, feedfinder2, tinysegmenter, jieba3k\n",
      "  Running setup.py bdist_wheel for feedparser ... \u001b[?25ldone\n",
      "\u001b[?25h  Stored in directory: /home/ec2-user/.cache/pip/wheels/8c/69/b7/f52763c41c5471df57703a0ef718a32a5e81ee35dcf6d4f97f\n",
      "  Running setup.py bdist_wheel for feedfinder2 ... \u001b[?25ldone\n",
      "\u001b[?25h  Stored in directory: /home/ec2-user/.cache/pip/wheels/de/03/ca/778e3a7a627e3d98836cc890e7cb40c7575424cfd3340f40ed\n",
      "  Running setup.py bdist_wheel for tinysegmenter ... \u001b[?25ldone\n",
      "\u001b[?25h  Stored in directory: /home/ec2-user/.cache/pip/wheels/81/2b/43/a02ede72324dd40cdd7ca53aad718c7710628e91b8b0dc0f02\n",
      "  Running setup.py bdist_wheel for jieba3k ... \u001b[?25ldone\n",
      "\u001b[?25h  Stored in directory: /home/ec2-user/.cache/pip/wheels/83/15/9c/a3f1f67e7f7181170ad37d32e503c35da20627c013f438ed34\n",
      "Successfully built feedparser feedfinder2 tinysegmenter jieba3k\n",
      "Installing collected packages: feedparser, feedfinder2, tinysegmenter, cssselect, jieba3k, requests-file, tldextract, newspaper3k\n",
      "Successfully installed cssselect-1.1.0 feedfinder2-0.0.4 feedparser-5.2.1 jieba3k-0.35.1 newspaper3k-0.2.8 requests-file-1.4.3 tinysegmenter-0.3 tldextract-2.2.1\n",
      "\u001b[33mYou are using pip version 10.0.1, however version 19.2.3 is available.\n",
      "You should consider upgrading via the 'pip install --upgrade pip' command.\u001b[0m\n"
     ]
    }
   ],
   "source": [
    "!pip install newspaper3k"
   ]
  },
  {
   "cell_type": "code",
   "execution_count": 10,
   "metadata": {
    "colab": {},
    "colab_type": "code",
    "id": "fTPlziljCiNJ"
   },
   "outputs": [],
   "source": [
    "import newspaper"
   ]
  },
  {
   "cell_type": "code",
   "execution_count": 42,
   "metadata": {
    "colab": {
     "base_uri": "https://localhost:8080/",
     "height": 34
    },
    "colab_type": "code",
    "id": "bk9JF2zaCxoO",
    "outputId": "9e66fc15-a397-4b59-f810-d2182565c99a"
   },
   "outputs": [
    {
     "data": {
      "text/plain": [
       "11"
      ]
     },
     "execution_count": 42,
     "metadata": {},
     "output_type": "execute_result"
    }
   ],
   "source": [
    "ap = newspaper.build('https://www.washingtonpost.com')\n",
    "len(ap.articles)"
   ]
  },
  {
   "cell_type": "code",
   "execution_count": 69,
   "metadata": {
    "colab": {
     "base_uri": "https://localhost:8080/",
     "height": 54
    },
    "colab_type": "code",
    "id": "Vc6JgAIJDF4E",
    "outputId": "44a13922-d86a-4668-c4fd-455c0d03b6c1"
   },
   "outputs": [
    {
     "name": "stdout",
     "output_type": "stream",
     "text": [
      "[' ', '', \"Reports have alleged that Transportation Secretary Elaine Chao has used her position to help her family members' business. (Chris Kleponis/AFP/Getty Images)\", 'The House Oversight and Reform Committee on Monday sought documents from Transportation Secretary Elaine Chao as it investigates what it calls “troubling questions” into whether the Trump appointee misused her position for personal and family benefit.', 'Noting that federal employees are forbidden from using public office for friends’ or relatives’ “private gain,” the committee’s letter to Chao cites media reports that allege the secretary leveraged her position to help Foremost Group — a New York-based shipping company that carries goods between the United States and China and that is owned by her father and sisters — gain “influence and status” with the Chinese government that has given the firm millions in loans.', 'The sweeping request for documents follows growing scrutiny of Chao and joins a host of inquiries into the Trump administration by a Democrat-led House. The committee cites reporting by the New York Times this summer that the Transportation Department canceled a fall 2017 trip to China after State Department staff members grew leery of Chao’s efforts to include relatives in meetings with Chinese officials. House investigators are also examining Chao’s appearances with her father, James Chao, in interviews that featured the DOT’s seal, and Monday’s letter alleges the secretary’s father “touted [Chao’s] influence within the United States government and boasted about his access to President Trump on Air Force One.”', 'The Transportation Department pushed back on claims of ethics violations Monday, saying in a statement to The Washington Post that Chao has not been involved with the family’s shipping business for more than four decades. The department confirmed it received the committee’s letter and said it looks forward to responding.', '“Media attacks targeting the Secretary’s family are stale and only attempt to undermine her long career of public service,” the department wrote.', 'While Chao does not have a formal stake in Foremost Group, James Chao has given millions to his daughter and her husband, Senate Majority Leader Mitch McConnell (R-Ky.), the New York Times reported this summer. Other relatives, including a sister who serves as the company’s chief executive, have donated more than $1 million to McConnell’s reelection efforts, according to the Times. David Popp, a spokesman for McConnell, told The Post the money from James Chao was in memory of Chao’s mother but did not provide comment on the House investigation letter.', 'An article in Politico last year highlighted dozens of media interviews in which Chao stood beside her father — sometimes in conjunction with flags for the Transportation Department or Kentucky. Experts told Politico the interviews could be interpreted as promoting Chao’s father’s book or signaling the Chaos’ valuable U.S. connections in China.', '“There is nothing inappropriate with a Cabinet member appearing with her father or other family members,” a DOT spokesperson responded at the time. “The secretary’s appearances are intended to share an inspirational story about immigrants from a minority community who have become successful in our country.”', 'But others in the government have questioned Chao’s mixing of family and official business since she became head of the Transportation Department in 2017.', '“This was alarmingly inappropriate,” David Rank, a former State Department staffer, said of the China visit canceled over Chao’s attempts to involve relatives, according to the Times.', 'The Oversight and Reform Committee’s letter also probes recent moves by the Transportation Department to cut millions from programs meant to help the U.S. shipping industry, saying the department’s actions “may threaten national security” by making the country potentially more dependent on foreign-flagged ships during war or emergencies. The Department’s proposals included ultimately rejected cuts to the Maritime Security Program, which helps ensure the military can access American-flagged ships in times of need.', 'Removing domestic maritime funding could have helped Foremost Group because the company owns foreign-flagged ships, the letter says.', 'The committee raises further concerns about Chao’s failure to divest from a construction company reliant on DOT infrastructure allocations until this summer — despite a promise to do so in 2017, before she was confirmed to the position. Chao sold her stock in Vulcan Materials Company, where she once served on the board of directors, days after a Wall Street Journal report drew attention to her continued holdings.', 'Amid scrutiny of the Vulcan shares, a June 13 DOT letter to the Office of Government Ethics described “inadvertent misstatements of fact” in Chao’s earlier financial disclosures and an ethics agreement. The Oversight Committee says it is examining these misstatements as well as Chao’s compliance with ethics and disclosure requirements.', 'The committee’s letter makes 18 requests for documents and information, ranging from any communications about Foremost involving DOT employees to unredacted copies of documents released to the Times under a Freedom of Information Act request.', 'It asks that Chao fulfill the requests by Sept. 30.', 'The investigation could lead to higher penalties for inaccurate financial statements, new disclosure requirements or other changes in the law, the letter signed by Reps. Elijah E. Cummings (D-Md.) and Raja Krishnamoorthi (D-Ill.) states.', 'The Transportation Department disputed the allegations against Chao on many fronts in its statement to The Post on Monday. It suggested the Chao family’s shipping company falls outside the department’s purview, saying its Maritime Administration is “not a major regulator of the maritime industry” and deals mostly with domestic shipping. Foremost Group does not operate U.S.-flagged vessels and is “not involved in the domestic U.S. merchant marine shipping business,” the department said.', 'The department countered criticism of its past proposed cuts to domestic shipping programs by saying the Maritime Administration’s operating budget is larger than ever. The department requested the full $300 million authorized for the Maritime Security Program this year and is working to replace training ships for marine academies, it said.', 'The department added that its ethics officials do not see Chao’s stock in Vulcan Materials as a conflict of interest and said the secretary has been recused from issues involving the company. Chao sold her stocks anyway due to a “commitment to going above and beyond what is required,” the department said.', 'The department attributed errors in Chao’s ethics disclosures to a “misunderstanding.”', 'The Oversight and Reform Committee did not immediately respond Monday to questions.', 'Read more:', 'Tracking how many key positions Trump has filled so far', 'McConnell dismisses report that his wife, Transportation Secretary Elaine Chao, steered funds to Kentucky', 'Sen. Christopher A. Coons (D-Del.) sent a letter to the FBI, urging follow-up on new information he believed was relevant to allegations against Brett M. Kavanaugh. (Melina Mara/The Washington Post)', 'Four days before Brett M. Kavanaugh was confirmed to the Supreme Court by the narrowest of margins, Sen. Christopher A. Coons (D-Del.) sent a letter to the FBI, urging “appropriate follow up” on new information he believed was relevant to sexual misconduct allegations made against the nominee.', 'Then, apparently, not much happened.', 'Not at the FBI, which assured Coons it had received the letter but did not interview the person whom the senator referred to the bureau. Not in the office of then-Senate Judiciary Committee Chairman Charles E. Grassley (R-Iowa), which was copied on the letter that contained few in the way of specifics. And not among Democrats, several of whom had been unaware of the information until a New York Times report this weekend detailed a new alleged incident involving Kavanaugh.', 'That inaction — made public in recent days through new reports about Kavanaugh’s alleged misbehavior — has renewed a bitter debate about how his confirmation was handled, angering Democrats about a process they felt was rushed and animating Republicans who decried what they viewed as attempts to assassinate Kavanaugh’s character.', 'The revelations about the process also revived one of the most rancorous episodes in recent political history and thrust it into the center of the 2020 presidential race, as several Democratic candidates called on the Supreme Court’s newest justice to be impeached by the House.', 'In an interview Monday, Coons said he was “disappointed and upset” that the scope of the FBI background check — greenlighted by the White House just over a week before Kavanaugh was confirmed at the insistence of Republican senators — was, in his view, “so constrained.”', '“Of many things that are still not known about the whole matter, one of the things that deserves to be better understood is, at whose direction [did] the FBI narrow that investigation?” Coons said. “I don’t think the FBI makes decisions like that on their own about the scope of an investigation. So I think the important question is, at whose direction and what does this say about future nominations?”', 'One person with knowledge of the process said this week that the White House decided what to investigate based on conversations with senators and what they wanted to know. Republican senators — all of whom supported Kavanaugh except for Sen. Lisa Murkowski (Alaska) — were largely satisfied with the probe.', 'The new allegation against Kavanaugh was made public Saturday night in a book excerpt published by the Times from two of its reporters. The report said Max Stier, a Yale University classmate of Kavanaugh who now leads a prominent nonpartisan group in Washington, said he saw Kavanaugh with his pants down at a party, where friends pushed Kavanaugh’s penis into a young woman’s hand.', 'According to the book, “The Education of Brett Kavanaugh: An Investigation,” the woman involved in the alleged incident has told friends she does not recall it — context that was not included in the first version of the excerpt published on the Times website.', 'Coons, an acquaintance of Stier’s who sits on the Senate Judiciary Committee, said in an interview with The Washington Post Monday that Stier had quietly reached out in late September of last year with information he wanted to relay about Kavanaugh to federal investigators.', 'He was “very concerned about confidentiality,” Coons recalled. In his initial conversation, Stier seemed optimistic he would ultimately be able to relay his information to the FBI by “reaching out through other means,” Coons said.', 'But on the night of Oct. 1, 2018, Coons and Stier spoke again, with Stier stressing that the week-long FBI investigation was almost over and imploring Coons for his help.', '“I said, ‘I’m happy to try one more time,’ ” Coons said.', 'Coons then wrote to FBI Director Christopher A. Wray on Oct. 2, 2018, requesting an “appropriate follow up” with Stier. Although the name was redacted in the one-page letter obtained by The Post, a spokesman for Coons confirmed Monday that the individual was Stier.', 'Stier was one of several people who went to Yale at the same time as Kavanaugh who reached out to the FBI last year seeking to provide information, but were not interviewed, according to people familiar with the matter.', 'In his letter, Coons said “several individuals” had contacted his office saying they wanted to share information with federal authorities but had “difficulty reaching anyone who will collect their information.”', '“I cannot speak to the relevance or veracity of the information that many of these individuals seek to provide, and I have encouraged them to use the FBI tip portal or contact a regional FBI field office,” Coons wrote to Wray. But Stier, Coons added, “was one individual whom I would like to specifically refer to you for appropriate follow up.”', 'The two top senators on the Judiciary Committee at the time — Grassley and ranking Democrat Dianne Feinstein (Calif.) — were copied on Coons’s letter to the FBI. But neither had information beyond what Coons wrote, according to two Senate aides. The letter does not describe the information Stier said he had in detail.', 'Stier also did not contact committee leadership, according to officials involved in the process.', 'Grassley, who had a team of nearly 40 attorneys and other officials who vetted several Kavanaugh-related accusations last fall, said he found out about the new alleged incident Sunday, after the Times published its report.', '“They did everything we asked them to,” Grassley said Monday of the FBI. “The problem is, there was just a name given. . . . So I think it’s just a case of somebody saying you ought to talk to somebody. That doesn’t give you much to go on.”', 'Feinstein told reporters that she “had no other information at that time.”', '“The problem was that the FBI did not do the investigations that we hoped they would do,” Feinstein said. “We need to clear this up.”', 'Wray has defended the FBI’s handling of the Kavanaugh background investigation, although the House Judiciary Committee, led by Democrats, has indicated the FBI director will face questions on the issue in October, which is the next time he is scheduled to appear before them.', 'The FBI’s investigation into the Kavanaugh allegations was always limited in scope, in part because a background investigation is not like a criminal probe to uncover possible wrongdoing. Rather, it is an inquiry made on behalf of a specific client — the White House.', 'The inquiry into sexual assault allegations made against Kavanaugh was even more restricted because it was a supplemental investigation to the previous FBI background probe.', 'To address questions raised by Republican senators who were wavering on voting for him, the White House tasked the FBI to do some limited, additional digging, according to people familiar with the matter. Democrats cried foul at the time, saying the FBI was hamstrung by the White House, and the FBI ultimately interviewed fewer than a dozen people connected to two allegations leveled against Kavanaugh.', 'One was the accusation brought by Christine Blasey Ford, who accused Kavanaugh of sexually assaulting her when both were teenagers in suburban Washington. The other was brought by Deborah Ramirez, another Yale classmate who alleged that Kavanaugh exposed himself during a dorm party. Kavanaugh has denied all the allegations.', '“When I heard from several senators that they were being assured that this would be a by-the-book investigation, I called White House counsel [Donald] McGahn and said, ‘Where’s the book? What’s the rules? What’s the background?’” Coons recalled.', 'Aides said Coons wrote the Oct. 2 letter because he wanted to get relevant information about credible allegations as quickly as possible to the FBI. Kavanaugh was confirmed Oct. 6.', 'As the FBI was wrapping up its investigation, intermediaries working on behalf of Stier delivered his account to agency officials. The intermediaries told The Post last year they had relayed that a classmate of Kavanaugh’s had witnessed an incident while taking a study break at Yale’s Lawrance Hall, a dorm. They declined to give the classmate’s name to The Post.', 'Devlin Barrett, Josh Dawsey and Mike DeBonis contributed to this report.', 'Rob Porter, left, then White House staff secretary, speaks to President Trump at Trump National Golf Club in Bedminister, N.J., on Aug. 12, 2017. The White House has instructed Porter and another former aide to Trump not to appear at a House Judiciary Committee hearing Tuesday. (Pablo Martinez Monsivais/AP)', 'The White House is claiming immunity over two former aides subpoenaed by the House Judiciary Committee, blocking them from answering questions in a Tuesday hearing about what they told former special counsel Robert S. Mueller III.', 'White House counsel Pat A. Cipollone directed Rick Dearborn, the former Trump campaign adviser and ex-White House deputy chief of staff, and Rob Porter, the former White House secretary, not to answer questions by the panel. The committee subpoenaed both ex-Trump officials — key witnesses in several instances of potential obstruction of justice laid out by Mueller — to testify Tuesday.', '“The President has directed Mr. Dearborn and Mr. Porter not to appear at the hearing scheduled for Tuesday, September 17, 2019,” Cipollone wrote to House Judiciary Committee Chairman Jerrold Nadler (D-N.Y.) on Monday evening, later adding: “The Department of Justice has advised me that Mr. Dearborn and Mr. Porter are absolutely immune from compelled congressional testimony with respect to matters related to their service as senior advisers to the President.”', 'The move was largely expected by House Democrats, who argue that the administration’s frequent immunity assertions over potential witnesses in their probes are bogus. They’re currently challenging many of those claims in court.', 'The White House did something similar to stop other top Trump officials Democrats sought to haul into the witness chair, including former White House counsel Donald McGahn, from testifying. An appeals court is expected to rule on the claim over McGahn’s testimony as soon as late October.', 'In a letter to the panel, Porter’s attorney said his client was in an impossible situation, a fight between two branches of government that must be resolved before he appears before lawmakers.', '“Mr. Porter has served in all three branches of the Federal government and is mindful of their respective constitutional responsibilities and prerogatives,” Porter’s lawyer Brant W. Bishop wrote to the panel in a letter Monday night. “He now faces competing and incompatible demands from coordinate and coequal branches . . . Such conflicting demands must be resolved through an accommodation between the Executive and Legislative branches, or by the Judiciary.”', 'He added: “In the meantime, because the inquiry at issue relates to his service as a senior official at the White House, Mr. Porter must respect the White House’s instruction.”', 'Democrats’ Tuesday hearing, however, won’t be without fireworks. Far from it: Trump’s combative former campaign manager Corey Lewandowski intends to testify, pushing back on Democratic assertions that Trump did anything wrong.', 'The questioning, which many expect to be heated, will be the first time House Democrats will have a key witness in the Mueller investigation testifying in public — a move they welcome even if he’s fiercely loyal to Trump.', 'The White House, in a letter to the committee, told Nadler that Lewandowski is not allowed to answer any questions about his communications with the president beyond what was in the Mueller report.', '“As explained below, Mr. Lewandowski’s conversations with the President and with senior advisers to the President are protected from disclosure by long-settled principles protecting Executive Branch confidentiality interests and, as a result, the White House has directed Mr. Lewandowski not to provide information about such communications beyond the information provided in the portions of the report that have already been disclosed to the Committee,” the letter reads.', 'Still, Democrats believe they’ll be able to do damage to the president by merely having Lewandowski confirm publicly what he already told Mueller’s team. According to the Mueller report, Trump tried to get Lewandowski to persuade former attorney general Jeff Sessions to limit the special counsel’s investigation, one of the possible areas of obstruction laid out by Mueller’s team.', 'Columnist', 'American Pharoah has joined the #Resistance.', 'On Friday, Vice President Pence informed House Republicans that Triple Crown winner American Pharoah “bit me so hard” on the arm during a Kentucky visit last year that he (man, not horse) “almost collapsed.”', 'Some might disbelieve the vice president’s tale of American Pharoah carnage, because Pence said nothing about this grievous injury at the time and because the manager of the racehorse-breeding company said that if the “sweet” thoroughbred had bitten Pence, “I’d know it.” Pence did show people a bruise on his arm back then, but that could have been from one of the many times President Trump walked all over him.', 'I’ve never known a member of the Trump administration to tell an untruth, so I have no reason to disbelieve Pence’s harrowing account. Besides, there are many reasons the horse would have bitten the hand that leads him:', 'Pence saw him and another stallion grooming each other, and American Pharoah worried he’d be sent to the glue factory.', 'Pence told the stud that sex is only between one stallion and one mare, whom the stallion should call “mother.”', 'Pence advised American Pharoah not to eat oats with a mare unless others are present at the same trough.', 'More likely, it was something in American Pharoah’s horse sense that told him the man in the suit was a weak specimen.', 'Horse herds are hierarchical, and nobody bites the dominant horse, or alpha, because the perpetrator would be badly hurt or ostracized from the herd. As the “expert animal communicator” Val Heart writes: “Biting you may mean that your stallion/horse doesn’t consider you to be their alpha leader, and that their status is higher than yours. . . . And you haven’t earned their respect.”', 'It is almost as if American Pharoah had seen how Pence is treated around the White House.', 'Maybe the stable hands play CNN, or maybe American Pharoah’s equine instincts sense subservience. But this stallion somehow knew Pence was a sycophant. This is the guy who, after all, just flew 200 miles out of the way to stay at Trump’s property in Doonbeg, Ireland — at Trump’s, ahem, “suggestion” — dutifully promoting the resort in public appearances.', 'Days after that, he dismissed “Fake News” reports that he objected to Trump’s outrageous decision to invite the Taliban to Camp David days before the 9/11 anniversary. “I FULLY support your decision,” Pence tweeted to Trump, putting submissiveness above dignity.', 'Pence has likewise set aside principles to defend Trump’s public vulgarities and blasphemy, the “Access Hollywood” tape, the Stormy Daniels payoff, his comments on racial violence in Charlottesville , his personal profiting from government funds, his chumminess with tyrants worldwide and his praise for WikiLeaks. Pence has gushed repeatedly about his boss’s “broad shoulders,” gazed adoringly at him in public, defended Trump’s falsehoods and showered him with praise about his miraculous and best-ever presidency. He even apes his boss’s gestures, down to where to place a water bottle. Why? Maybe Pence explained it best himself the day he was supposedly bitten by American Pharoah: “I like to be around winners.”', 'In exchange? Trump publicly contradicts Pence and declines to extinguish fully the possibility he’ll dump Pence from the ticket.', 'Trump might not have American Pharoah’s speed, but their behaviors are similar. The comedian John Mulaney likens Trump’s presidency to a horse loose in a hospital: “No one knows what the horse is going to do next, least of all the horse. . . . So all day long you walk around, ‘What’d the horse do? What’d the horse do?’ The updates, they’re not always bad; sometimes they’re just odd. It’ll be like, ‘The horse used the elevator? I didn’t know he knew how to do that.’ The creepiest days are when you don’t hear from the horse . . . those quiet days when people are like, ‘It looks like the horse has finally calmed down.’ And then 10 seconds later the horse is like, ‘I’m gonna run toward the baby incubators and smash ’em with my hooves.’”', 'Pence could do something about the untamed equine now running the country. The answer is in the literature of animal husbandry.', '“Horses bite because they are afraid. Bullies behave badly because they have poor self esteem and are fearful,” equine expert Lynn Baber writes. “Horses behave poorly for similar reasons. . . . Your horse didn’t bite you because he has excessive self-esteem.”', 'How to calm the rampaging horse? “Horses, like people, give respect where it is due,” Baber explains. “Horses, like most animals and people, are naturally attracted to calm, confident personalities. One must be worthy to be a good herd leader.”', 'Maybe that’s what American Pharoah was trying to tell Pence with his bite: Don’t let that orange-maned beast trample you.', 'Read more from Dana Milbank’s archive, follow him on Twitter or subscribe to his updates on Facebook.', 'Now comes additional evidence that the investigation was, in fact, far from thorough and more of a sham than it seemed at the time. Reasonable investigative steps were not pursued.', 'In an article adapted from their forthcoming book on the Kavanaugh controversy, two New York Times reporters revealed that the FBI interviewed practically no one regarding one of the allegations against Mr. Kavanaugh, in which one of his Yale classmates, Deborah Ramirez, said Mr. Kavanaugh drunkenly exposed himself to her. “During his Senate testimony, Mr. Kavanaugh said that if the incident Ms. Ramirez described had occurred, it would have been ‘the talk of campus.’ Our reporting suggests that it was,” the reporters wrote. They found that federal agents interviewed none of the two dozen people who Ms. Ramirez said could bolster her story and ignored an allegation of a second episode of drunken misbehavior.', 'This investigative shoddiness was apparently the fault not of the FBI but of Republicans looking for the cover Mr. Flake had claimed he did not want. At first, they limited the FBI to questioning only four people about two separate allegations. Agents eventually got an expansion of the number of people they could contact — they interviewed 10 — but not an extension of their deadline: a mere week. Senate Majority Leader Mitch McConnell (R-Ky.) insisted that the Senate would vote within days. Under these pressures and limitations, the FBI interviewed few and turned in its report early.', 'The Senate was faced with the challenge of evaluating Mr. Kavanaugh’s credibility when he insisted the allegations against him were totally baseless and that he did not ever get so drunk he blacked out. Corroborating witnesses for Ms. Ramirez, along with any accounts of Mr. Kavanaugh’s drinking they had to share, would have spoken directly to this question. Instead, the Senate got a woefully incomplete report. Republicans got their cover.', 'Overheated calls from Democrats for Mr. Kavanaugh’s impeachment, like the chilling calls from President Trump for the Justice Department to strike back at accusers, are not productive. But the Justice Department Office of the Inspector General should investigate exactly what marching orders the FBI got and when, and how its agents responded.', 'Read more:', 'The Post’s View: Vote ‘no’ on Kavanaugh', 'Henry Olsen: Calls for impeaching Kavanaugh are damaging our democracy', 'Jennifer Rubin: This is the Kavanaugh mess we feared', 'Alexandra Petri: There’s nothing wrong with good, harmless fun!', 'E.J. Dionne Jr.: The Kavanaugh revelations: Why the Supreme Court is broken', 'A D.C. police officer was wounded and an armed man was killed during an exchange of gunfire Monday evening in Southeast Washington.', 'Police Chief Peter Newsham said the officer’s injuries were not life-threatening. He said it was unclear whether the officer’s protective vest blocked the bullet.', 'The deadly confrontation occurred at an apartment house in the 2200 block of Savannah Terrace SE as officers responded to a call about gunfire inside an apartment.', 'A second male at the scene was found shot and critically injured inside an apartment, Newsham said. He said it was not clear who shot him.', 'Newsham said that when officers arrived, an armed man came out of the building and fired at officers. One or more officers returned fire. “It sounds like the officer didn’t have much choice,” the chief said.', 'The armed man apparently died at the scene. Newsham said that “he showed no apparent signs of life.”', 'The man was not named.', 'Police found “what appears to be” the weapon that was used to fire at officers, Newsham said.', '', 'Police continued to investigate Monday night.', 'The shooting occurred in a residential area south of Alabama Avenue and west of Suitland Parkway.', 'Newsham said that each day police do a “hard job” in which they are “more than willing” to confront armed suspects.', 'However, he said, officers “have to defend themselves.”', 'Newsham said in a news conference near the scene that it “sounds like a round struck the officer in the vest.” Even if a bullet is blocked by a protective vest, it is possible for the impact of a gunshot to cause injury.', 'Read more:', 'Local newsletters: Local headlines (8 a.m.) | Afternoon Buzz (4 p.m.)', 'Like PostLocal on Facebook | Follow @postlocal on Twitter | Latest local news', 'Margery Magill, 27, was walking a small pit-bull mix at about 8:40 p.m. in the 400 block of Irving Street NW when police say Aregahegne, for reasons unknown, walked up and stabbed her a dozen times in the back, stomach and face.', 'Police have no clues on the motive and said there is no evidence of a robbery or attempted sexual assault. “The evidence appears [that] this is an unprovoked attack,” said Chad Leo, the lead homicide detective on the case who testified at the hearing.', 'The randomness of the attack, just after dusk that summer evening in a quiet residential area near Washington Hospital Center, shocked many across the city.', 'Shortly afterward, detectives followed a blood trail from the stabbing scene to an apartment about a quarter-mile away, in the 500 block of Columbia Road NW, Leo said. Authorities said Aregahegne shared the apartment there with his father.', 'Police said they found Aregahegne inside the apartment, nursing a bloody middle finger on his left hand. He told police he had cut his finger earlier that day.', 'Authorities said they also found a bloody white T-shirt and bloody sneakers at the apartment. Police also found the packaging for a kitchen knife and have determined that Aregahegne’s fingerprints were on the wrapping, Leo testified.', 'Suspect in random D.C. fatal stabbing has history of mental illness', 'Aregahegne has a history of mental illness starting in his late teens that resulted in brief hospitalization as well as homelessness. Aregahegne’s father told police that because of his son’s illness he did not keep knives in the apartment, Leo said.', 'Leo said there were no witnesses to the stabbing and DNA tests are still being performed on the items taken from the apartment.', 'Public defender David Knight said police jumped to conclusions and questioned the evidence against Aregahegne.', 'The knife used in the attack has not been found. A neighbor’s security video that was played by Aregahegne’s attorney was grainy. A witness told police she saw a man following Magill about a half-hour before the attack, but the description she provided did not match Aregahegne, Leo acknowledged.', 'Knight questioned why authorities interrogated Aregahegne alone, in a witness room for about nine hours, when his father had told police that Aregahegne is mentally ill.', 'During that questioning, Aregahegne changed his account about whether he was on the street about the time of the attack or if he had ever seen Magill. At one point, Aregahegne told police that “dark forces” in his head were present, but Leo said Aregahegne never directly linked “dark forces” to the attack.', 'Knight argued that police only identified Aregahegne as their suspect because they assumed “whoever did this was suffering from a mental illness.”', 'Knight focused his arguments on questioning the evidence. Laura Rose, a colleague of his from the District’s Public Defender Service who specializes in homicide cases involving individuals with severe mental illness, sat behind him in the courtroom taking notes.', 'Knight said his client had suffered from mental illness since his freshman year of college when he was an engineering student in Wisconsin. Knight said Aregahegne’s parents are divorced, and just two weeks before the attack, Aregahegne was living with his mother outside of the neighborhood.', 'Man who fatally stabbed D.C. runner in random attack sentenced to 30 years in prison', 'With a letter of support from Kim Kardashian-West, D.C. man convicted of murder gets a second chance', 'Before he died in prison, prosecutors were trying to cut down his 40-year sentence', 'Local newsletters: Local headlines (8 a.m.) | Afternoon Buzz (4 p.m.)', 'Like PostLocal on Facebook | Follow @postlocal on Twitter | Latest local news', '', 'Odell Beckham Jr. and the Cleveland Browns faced the New York Jets on Monday night. (Elsa/Getty Images)', 'This is a live post that will be updating.', 'In-game updates', '4th Quarter', 'Bell loses fumble: The frustrations continue for the Jets. Le’Veon Bell had a 17-yard catch for what would have been a first down at the Cleveland 7-yard line. But he lost a fumble and the Browns recovered. (Browns 23, Jets 3 with 7:34 remaining in the 4th quarter)', '3rd Quarter', 'Long TD for Beckham: Odell Beckham Jr. has won the night with an 89-yard touchdown catch. Beckham took a short pass from Baker Mayfield in the middle of the field and sprinted the remaining 78 yards or so to the opposite end zone. (Browns 23, Jets 3 with 3:32 left in the 3rd quarter)', 'Jets fail on fourth down: The Jets finally got their offense moving a little bit with Luke Falk at quarterback. He had a 36-yard completion to wide receiver Robby Anderson. But Coach Adam Gase left his offense on the field for a fourth-and-two try from the Cleveland 12-yard line, and Le’Veon Bell was tackled just shy of a first down after taking a swing pass from Falk. (Browns 16, Jets 3 with 3:35 left in the 3rd quarter)', 'Garrett dominating: Myles Garrett has three sacks in this game and five on the season to lead the NFL. He also had two first-half roughing-the-passer penalties and knocked Jets quarterback Trevor Siemian from the game with a late hit. (Browns 16, Jets 3 with 7:10 left in the 3rd quarter)', 'WR Demaryius Thomas (hamstring) and QB Trevor Siemian (ankle) are out. #CLEvsNYJ — #TakeFlight (@nyjets) September 17, 2019', 'HALF: Browns 16, Jets 3', 'Halftime at the Meadowlands: Take that, Gregg Williams. Odell Beckham Jr., after trading long-distance barbs last week with the defensive coordinator of the Jets, had a good first half for the Browns, with three catches for 54 yards. He had one of his trademark one-handed grabs to set up a Cleveland field goal. There also was some of the drama that so often surrounds the wide receiver, albeit in mild form tonight. He and Browns Coach Freddie Kitchens had words with the officials early in the game when Beckham was ordered to have the tinted face shield removed from his helmet because it violates NFL rules. Beckham jogged off the field with 20 seconds remaining in the first half after sitting on the ground in the end zone following an incompletion on Cleveland’s final drive of the half. A 25-yard completion from Baker Mayfield to wideout Jarvis Landry set up the third field goal of the night for Browns kicker Austin Seibert, a 43-yarder as time expired in the half. Cleveland got a second-quarter touchdown run by tailback Nick Chubb. Beckham accused Williams during the lead-up to this game of coaching dirty hits and cheap shots. But it was the Browns who were guilty of the most egregiously illegal hits in the first half. Cleveland’s Myles Garrett was penalized twice for roughing the passer, the second time with a late hit on Jets fill-in starter Trevor Siemian that knocked him from the game. Siemian was bent over backward and his left leg folded beneath him. He was able to walk off the field on his own and he later limped to the locker room. The Jets, already without starter Sam Darnold, turned to No. 3 quarterback Luke Falk. Siemian and Falk combined for four first-half passing yards on four completions. The Jets even tried a Wildcat offense at times, with direct snaps to tailback Le’Veon Bell, but scored only on a 46-yard field goal by kicker Sam Ficken. (Browns 16, Jets 3 at halftime)', '', 'Odell Beckham Jr. (Al Bello/Getty Images)', '2nd Quarter', 'FG for Jets: The offense of the Jets actually began to move the ball after Luke Falk took over for the injured Trevor Siemian at quarterback. That was accomplished mostly by Falk handing the ball off to running back Le’Veon Bell. Sam Ficken connected on a 46-yard field goal to get the Jets on the scoreboard, drawing loud cheers from a Meadowlands crowd weary of the team’s kicking misadventures. (Browns 13, Jets 3 with 2:56 left in the 2nd quarter)', '', 'New York Jets quarterback Luke Falk. (Jim McIsaac/AP Photo)', 'Siemian hurt: Jets quarterback Trevor Siemian was hurt on a late hit by the Browns’ Myles Garrett that drew a roughing-the-passer penalty. Luke Falk has taken over at quarterback for the Jets, who already are without starter Sam Darnold. Siemian was able to walk off the field and then limp to the locker room even after having his left leg folded beneath him as he fell backward when hit by Garrett after delivering a throw down the field. It was the second roughing-the-passer penalty of the game for Garrett. (Browns 13, Jets 0 with 7:58 left in the 2nd quarter)', 'Browns convert fourth down on way to TD: The Browns have the first touchdown of the night courtesy of a 19-yard run by tailback Nick Chubb. That came just after Coach Freddie Kitchens left his offense on the field for a fourth-and-two gamble from the 24-yard line. Baker Mayfield threw an incompletion but the drive was extended by a defensive holding penalty on the Jets. (Browns 13, Jets 0 with 10:16 left in the 2nd quarter)', '1st Quarter', 'Jets’ offense sputtering: The Jets are doing nothing on offense so far with quarterback Sam Darnold out of the lineup because of mononucleosis. Fill-in starter Trevor Siemian doesn’t have a completion yet and was sacked once by Myles Garrett on the opening drive. The Jets unveiled a Wildcat-style offense on their second possession with a direct snap to running back Le’Veon Bell on the opening play. Nothing is working so far, and the Jets have punted twice. (Browns 6, Jets 0 with 5:18 left in the 1st quarter)', '', 'Myles Garrett sacks Trevor Siemian on Monday night. (Bill Kostroun/AP Photo)', 'Second FG for Browns: The Browns made it two field goals on two possessions. Kicker Austin Seibert connected from 48 yards after Baker Mayfield overthrew Odell Beckham Jr. on third down. (Browns 6, Jets 0 with 6:15 left in the 1st quarter)', 'Beckham told to get rid of helmet shield: The problem with Odell Beckham Jr.’s helmet shield was that it was tinted, rather than clear. He was told by officials that was not permitted, and he had to leave the game to have it removed from his helmet. Beckham was not pleased about it and could be seen protesting about it to officials.', '', \"Odell Beckham Jr., pictured before Monday's game. (Bill Kostroun/AP Photo)\", 'Beckham catch leads to FG: It was an uneventful opening drive for Odell Beckham Jr. and the Browns. Beckham made one of his brilliant one-handed catches along the sideline for a 33-yard gain that gave the Browns a first down at the 4-yard line of the Jets. But he was on the sideline for their third-and-goal play from the 5-yard line, obviously displeased, as team officials worked on his helmet for what ESPN described as an issue with Beckham’s tinted face shield. Both Beckham and Browns Coach Freddie Kitchens exchanged words with the officials over the matter. Baker Mayfield threw the ball away on the third-and-goal play, and the Browns settled for a field goal. (Browns 3, Jets 0 with 10:27 left in the 1st quarter)', 'Browns at Jets', 'When: Monday at 8:15 p.m. Eastern', 'Where: MetLife Stadium in East Rutherford, N.J.', 'TV: ESPN', 'Streaming: fuboTV, WatchESPN, NFL Game Pass', 'Pregame reading', 'The long-distance verbal back and forth last week between Cleveland Browns wide receiver Odell Beckham Jr. and New York Jets defensive coordinator Gregg Williams certainly served to intensify the scrutiny on the two teams’ meeting Monday night in East Rutherford, N.J.', 'Beckham accused Williams of teaching “cheap shots” and “dirty hits,” citing a 2017 preseason game in which Beckham suffered an ankle injury while with the New York Giants. He later was told by Browns players, he said, that Williams had told Cleveland players to target him.', 'Williams, the former defensive coordinator for the Browns who served as their interim head coach last season, countered that his defenses play “hard, fast, physical,” but not dirty. Williams, suspended for more than a year by the NFL for his role in the Bountygate scandal with the New Orleans Saints, told reporters not to give Beckham attention and brought up the Giants’ decision to trade the wide receiver to the Browns this past offseason.', '[The Browns are AFC North favorites. The Steelers and Ravens welcome the challenge.]', 'All of that is interesting and newsworthy, of course. It also perhaps was a clever preemptive move by Beckham, who has put the on-field officials and the league office on notice in case he absorbs any questionable hits Monday. But Williams and Beckham won’t be matched up on the field at MetLife Stadium, and these are teams with some more pressing competitive issues.', 'The Browns were the darlings of the NFL offseason after adding Beckham to go with young franchise quarterback Baker Mayfield, who nearly got the team into the playoffs last season as a rookie. But entering a season with lofty expectations is not exactly the norm for the Browns, and so it was notable that they gave a dud of a performance in losing their opener to the Tennessee Titans. Really? Same old Browns? Even after all this?', 'This game gives the Browns a chance to begin living up to all the hype. The Jets also are 0-1 and they’ll be without quarterback Sam Darnold, who is sidelined because of mononucleosis. Former Denver Broncos starter Trevor Siemian takes over as the Jets seek their first victory under their new head coach, Adam Gase.', 'The Beckham-Williams talk will be forgotten by the time this one is decided — unless, of course, something happens on the field Monday to revive the conversation.', 'More NFL coverage:', 'Ben Roethlisberger out for the season, will have elbow surgery', 'Brewer: The NFL has a quarterbacks problem: It needs to figure out how to better protect them.', 'Saints fans cry foul after yet another bad call: ‘We just want answers’', 'Clayton: Can any of the NFL’s 0-2 teams make a playoff run? Plus, more Week 2 takeaways.', '', 'President Trump with Japanese Prime Minister Shinzo Abe at the Group of 20 summit in Osaka, Japan, in June. (Susan Walsh/AP)', 'President Trump said Monday that he had reached a trade deal with Japan but provided no details of its terms, including whether he had agreed to rule out imposing tariffs on Japanese automobiles.', '“I am pleased to report that my Administration has reached an initial trade agreement regarding tariff barriers ... with Japan and I intend to enter into the agreement in the coming weeks,” the president said in a statement released by the White House.', 'The statement came less than a month after Trump announced an agreement “in principle” with Japan at the Group of 7 summit in Biarritz, France. The president told reporters it was “a very big transaction\" that would be “tremendous for the farmers.”', 'At that time, Japanese officials did not confirm the agreement, saying instead that the two sides had a “convergence of views.”', 'Trump is expected to meet Japanese Prime Minister Shinzo Abe later this month at the annual United Nations General Assembly session. White House officials had been hopeful that they could announce major progress regarding the talks during the meeting with Japan, the world’s third-largest economy.', 'Coming to terms with Japan is especially important because Trump withdrew from an earlier Pacific trade deal, the Trans-Pacific Partnership (TPP), on his fourth day in office.', 'The president castigated that agreement, which the Obama administration had concluded with 11 other nations, as disastrous for American manufacturing.', 'But leaving the TPP meant that American farmers in particular faced higher tariffs for their sales to Japan than U.S. trading partners.', 'Throughout the year-long talks with the Trump administration, which Japan entered into reluctantly, Tokyo has resisted giving the United States better terms than it provided in the TPP.', 'When those talks began last year, Robert E. Lighthizer, the chief U.S. negotiator, said there would be “an awful lot of differences between what was negotiated in TPP and the kind of agreement we expect with Japan.”', 'The president’s announcement of an agreement with the Japanese on Monday was contained in a just a few paragraphs, and it was issued under a provision of law that gives lawmakers no role in approving the deal, according to Lori Wallach, director of Public Citizen’s Global Trade Watch.', '“What this notice means is they have actually completed the details of what tariffs both countries will cut,” she said.', 'The president said he also plans to reach an “executive agreement” regarding digital trade, a focus of industries from financial services to retail.', 'That accord will not require legislative approval and will probably resemble the provisions of other trade deals such as the U.S.-Mexico-Canada Agreement, according to William Reinsch, a former Commerce Department official now at the Center for Strategic and International Studies.', 'Trump also repeated his intention to move on eventually to a second step in the negotiations with Japan, which he called “a comprehensive trade agreement that results in more fair and reciprocal trade between the United States and Japan.”', 'One of the president’s central objectives in his “America First” trade overhaul is narrowing the U.S. trade deficit. Last year, Americans spent $67 billion more on Japanese goods than Japan bought from American suppliers.', 'Trump has often focused on the auto industry as a barometer of overall U.S.-Japan trade. Despite years of effort, U.S. automakers have struggled to gain ground in Japan. Ford Motor Co. withdrew from the market in 2016 after years of woeful results, which it blamed on Japanese trade barriers.', 'Many analysts are skeptical that Japan’s Abe, who faces opposition at home from politically powerful groups like farmers, will move on to a second deal.', 'An ethics probe commissioned by the D.C. Council into its longest-serving member, Jack Evans (D-Ward 2), is delayed because key witnesses have refused to speak to investigators, Council Chairman Phil Mendelson (D) said Monday.', 'The council voted in July to hire the law firm O’Melveny & Myers to conduct the investigation, one of several probes into Evans’s actions as a public official and as a private consultant.', 'But some of Evans’s clients have refused to talk to the firm and comply with subpoenas issued by it, Mendelson said during a news conference.', 'Investigators have spoken to Evans and one other person, the chairman said. Another witness has an interview scheduled later in the month, Mendelson said.', 'The D.C. Council is scheduled to vote Tuesday on legislation that would give the city authority to petition the D.C. Superior Court to enforce the subpoenas.', '“There’s a great deal of public unhappiness with regards to Mr. Evans’s conduct, and the investigation needs to be completed now,” Mendelson said. “This needs to move more quickly, and the fault here is the interviewees who are not coming in to be interviewed.”', '[Rift deepens on D.C. Council amid Jack Evans scandal]', 'Mendelson hoped that investigators would finish most of their work during the council’s summer recess and release their findings soon after. Now Mendelson says the report’s release will be delayed until at least mid-October.', 'Mark Tuohey, a lawyer representing Evans, said his client was cooperating.', '“Jack has thoroughly cooperated with the Council investigation from the moment it started, including providing any document requested and sitting for multiple interviews,” Tuohey said in a statement. “He will continue to do so and is confident that a thorough and objective investigation would conclude he tried to conduct his official and business duties properly and according to the rules.”', 'Evans told council colleagues in July that investigations will show his “actions — while not becoming — are far from that which has been reported or suggested.”', 'The lawmaker, who formed his NSE consulting firm in 2016, has not been charged with a crime.', '[House Republicans want Jack Evans to testify at D.C. statehood hearing]', '“We are going to look at letting this continue to linger and linger and linger into next year,” said D.C. Council member David Grosso (I-At Large), who has urged Evans to resign. “I don’t think that’s good for the institution, and I don’t think the people of the District of Columbia deserve this.”', 'At least one NSE client, Forge, the parent company of Colonial Parking, confirmed its cooperation with the council investigation.', '“Forge is fully cooperating with the council’s review of Mr. Evans’s conduct, including providing documents as requested and agreeing to meet with the council’s lawyers to discuss these matters,” said Kevin Byrd, the company’s general counsel.', 'Other NSE clients did not respond to requests for comment or declined to comment.', \"[Controversy over Jack Evans evokes D.C.'s long history with ethics scandals]\", 'They include local development firms WillCo and EastBanc, the regional Eagle Bank and Fischer Holdings, a real estate investment firm. Another client is Digi Outdoor Media, a digital sign company whose founder had offered $50,000 to Evans’s consulting firm, along with 200,000 shares of stock and a paid summer internship for the lawmaker’s son. Evans has said he returned the money and stock and his son declined the internship.', 'Evans, who was first elected in 1991, is also facing a federal grand jury investigation.', 'Federal prosecutors subpoenaed records from the D.C. city government involving Evans and his business clients. FBI agents searched Evans’s Georgetown home in June.', 'Evans used his government email account to send proposals to prospective employers in 2015 and 2018, in which he touted his influence and connections as an elected official and board chairman of the Washington Metropolitan Area Transit Authority.', 'The District’s Board of Ethics and Government Accountability fined Evans $20,000 over his use of government emails, holding them up as evidence that he used government resources and the prestige of office for personal gain.', 'The emails also prompted the transit authority to launch its own investigation into Evans and his tenure there.', 'A law firm retained by Metro concluded that Evans “knowingly” and repeatedly abused his position at the transit agency to help friends and private clients.', '[Read the full report by the firm hired by WMATA to investigate Evans]', 'The Metro board’s ethics committee agreed to find one violation: that Evans failed to disclose a conflict of interest with the parking company that was secretly paying him $50,000 a year. Evans and Corbett Price, the District’s other representative on the board, tried to keep this finding from becoming public, and both resigned in the fallout from the ethics probe.', 'The results of the Metro probe prompted the D.C. Council to strip Evans of his committee chairmanship and pursue its own investigation.', 'An earlier investigation by The Washington Post identified several instances in which Evans used his legislative position in ways that could benefit his clients.', 'Steve Thompson contributed to this report.', 'Read more:', 'Emails contradict Evans’s assertions about relationship with gambling lobbyist', 'How D.C. government agencies missed chances to save lives in deadly fire', 'Firm with most of D.C. sports gambling contract has no employees', 'Local newsletters: Local headlines (8 a.m.) | Afternoon Buzz (4 p.m.)', 'Like PostLocal on Facebook | Follow @postlocal on Twitter | Latest local news']\n"
     ]
    }
   ],
   "source": [
    "article_text = ' '\n",
    "\n",
    "for article in ap.articles[:10]:\n",
    "  try:\n",
    "    article.download()\n",
    "    article.parse()\n",
    "    article_text += '\\n\\n' + article.text\n",
    "  except:\n",
    "    print('Failed: ' + article.url)\n",
    "  \n",
    "article_text = article_text.split('\\n\\n')\n",
    "print(article_text)"
   ]
  },
  {
   "cell_type": "code",
   "execution_count": 61,
   "metadata": {
    "colab": {
     "base_uri": "https://localhost:8080/",
     "height": 52
    },
    "colab_type": "code",
    "id": "rsMBBMcv_nRM",
    "outputId": "9f77b07b-4a5a-4ac8-f1b3-79e1a5331fad"
   },
   "outputs": [
    {
     "name": "stdout",
     "output_type": "stream",
     "text": [
      "unique characters :  51\n",
      "txt_data_size :  1999\n"
     ]
    }
   ],
   "source": [
    "# Based on \"The Unreasonable Effectiveness of RNN\" implementation\n",
    "import numpy as np\n",
    "\n",
    "article_text = ' '.join(article_text[:1000])\n",
    "chars = list(set(article_text)) # split and remove duplicate characters. convert to list.\n",
    "\n",
    "num_chars = len(chars) # the number of unique characters\n",
    "txt_data_size = len(article_text)\n",
    "\n",
    "print(\"unique characters : \", num_chars)\n",
    "print(\"txt_data_size : \", txt_data_size)"
   ]
  },
  {
   "cell_type": "code",
   "execution_count": 62,
   "metadata": {
    "colab": {
     "base_uri": "https://localhost:8080/",
     "height": 159
    },
    "colab_type": "code",
    "id": "aQygqc_CAWRA",
    "outputId": "30c45e95-057a-4643-9cae-fc518b49c914"
   },
   "outputs": [
    {
     "name": "stdout",
     "output_type": "stream",
     "text": [
      "{'.': 0, 'M': 1, 'f': 2, 'h': 3, 'l': 4, 'e': 5, 'u': 6, '7': 7, 'F': 8, '1': 9, 'r': 10, 'k': 11, 'y': 12, '0': 13, 'a': 14, 'J': 15, 'D': 16, 'w': 17, 'd': 18, 'S': 19, 't': 20, 'n': 21, 'g': 22, 'A': 23, 'E': 24, 'C': 25, 'P': 26, 'R': 27, 'I': 28, ')': 29, 'o': 30, 'v': 31, 'c': 32, \"'\": 33, 'O': 34, 'H': 35, '9': 36, 'T': 37, 'b': 38, ' ': 39, 'i': 40, '/': 41, 's': 42, ',': 43, '2': 44, 'G': 45, '(': 46, 'p': 47, 'm': 48, '6': 49, 'K': 50}\n",
      "----------------------------------------------------\n",
      "{0: '.', 1: 'M', 2: 'f', 3: 'h', 4: 'l', 5: 'e', 6: 'u', 7: '7', 8: 'F', 9: '1', 10: 'r', 11: 'k', 12: 'y', 13: '0', 14: 'a', 15: 'J', 16: 'D', 17: 'w', 18: 'd', 19: 'S', 20: 't', 21: 'n', 22: 'g', 23: 'A', 24: 'E', 25: 'C', 26: 'P', 27: 'R', 28: 'I', 29: ')', 30: 'o', 31: 'v', 32: 'c', 33: \"'\", 34: 'O', 35: 'H', 36: '9', 37: 'T', 38: 'b', 39: ' ', 40: 'i', 41: '/', 42: 's', 43: ',', 44: '2', 45: 'G', 46: '(', 47: 'p', 48: 'm', 49: '6', 50: 'K'}\n",
      "----------------------------------------------------\n",
      "[39, 39, 39, 39, 39, 39, 39, 39, 19, 39, 39, 39, 5, 39, 39, 39, 32, 39, 39, 39, 10, 39, 39, 39, 5, 39, 39, 39, 20, 39, 39, 39, 14, 39, 39, 39, 10, 39, 39, 39, 12, 39, 39, 39, 39, 39, 39, 39, 30, 39, 39, 39, 2, 39, 39, 39, 39, 39, 39, 39, 37, 39, 39, 39, 10, 39, 39, 39, 14, 39, 39, 39, 21, 39, 39, 39, 42, 39, 39, 39, 47, 39, 39, 39, 30, 39, 39, 39, 10, 39, 39, 39, 20, 39, 39, 39, 14, 39, 39, 39, 20, 39, 39, 39, 40, 39, 39, 39, 30, 39, 39, 39, 21, 39, 39, 39, 39, 39, 39, 39, 24, 39, 39, 39, 4, 39, 39, 39, 14, 39, 39, 39, 40, 39, 39, 39, 21, 39, 39, 39, 5, 39, 39, 39, 39, 39, 39, 39, 25, 39, 39, 39, 3, 39, 39, 39, 14, 39, 39, 39, 30, 39, 39, 39, 39, 39, 39, 39, 14, 39, 39, 39, 47, 39, 39, 39, 47, 39, 39, 39, 5, 39, 39, 39, 14, 39, 39, 39, 10, 39, 39, 39, 42, 39, 39, 39, 39, 39, 39, 39, 38, 39, 39, 39, 5, 39, 39, 39, 2, 39, 39, 39, 30, 39, 39, 39, 10, 39, 39, 39, 5, 39, 39, 39, 39, 39, 39, 39, 20, 39, 39, 39, 3, 39, 39, 39, 5, 39, 39, 39, 39, 39, 39, 39, 19, 39, 39, 39, 5, 39, 39, 39, 21, 39, 39, 39, 14, 39, 39, 39, 20, 39, 39, 39, 5, 39, 39, 39, 39, 39, 39, 39, 25, 39, 39, 39, 30, 39, 39, 39, 48, 39, 39, 39, 48, 39, 39, 39, 5, 39, 39, 39, 10, 39, 39, 39, 32, 39, 39, 39, 5, 39, 39, 39, 43, 39, 39, 39, 39, 39, 39, 39, 19, 39, 39, 39, 32, 39, 39, 39, 40, 39, 39, 39, 5, 39, 39, 39, 21, 39, 39, 39, 32, 39, 39, 39, 5, 39, 39, 39, 39, 39, 39, 39, 14, 39, 39, 39, 21, 39, 39, 39, 18, 39, 39, 39, 39, 39, 39, 39, 37, 39, 39, 39, 10, 39, 39, 39, 14, 39, 39, 39, 21, 39, 39, 39, 42, 39, 39, 39, 47, 39, 39, 39, 30, 39, 39, 39, 10, 39, 39, 39, 20, 39, 39, 39, 14, 39, 39, 39, 20, 39, 39, 39, 40, 39, 39, 39, 30, 39, 39, 39, 21, 39, 39, 39, 39, 39, 39, 39, 25, 39, 39, 39, 30, 39, 39, 39, 48, 39, 39, 39, 48, 39, 39, 39, 40, 39, 39, 39, 20, 39, 39, 39, 20, 39, 39, 39, 5, 39, 39, 39, 5, 39, 39, 39, 39, 39, 39, 39, 2, 39, 39, 39, 30, 39, 39, 39, 10, 39, 39, 39, 39, 39, 39, 39, 3, 39, 39, 39, 5, 39, 39, 39, 10, 39, 39, 39, 39, 39, 39, 39, 32, 39, 39, 39, 30, 39, 39, 39, 21, 39, 39, 39, 2, 39, 39, 39, 40, 39, 39, 39, 10, 39, 39, 39, 48, 39, 39, 39, 14, 39, 39, 39, 20, 39, 39, 39, 40, 39, 39, 39, 30, 39, 39, 39, 21, 39, 39, 39, 39, 39, 39, 39, 3, 39, 39, 39, 5, 39, 39, 39, 14, 39, 39, 39, 10, 39, 39, 39, 40, 39, 39, 39, 21, 39, 39, 39, 22, 39, 39, 39, 39, 39, 39, 39, 30, 39, 39, 39, 21, 39, 39, 39, 39, 39, 39, 39, 15, 39, 39, 39, 14, 39, 39, 39, 21, 39, 39, 39, 0, 39, 39, 39, 39, 39, 39, 39, 9, 39, 39, 39, 9, 39, 39, 39, 43, 39, 39, 39, 39, 39, 39, 39, 44, 39, 39, 39, 13, 39, 39, 39, 9, 39, 39, 39, 7, 39, 39, 39, 0, 39, 39, 39, 39, 39, 39, 39, 16, 39, 39, 39, 5, 39, 39, 39, 48, 39, 39, 39, 30, 39, 39, 39, 32, 39, 39, 39, 10, 39, 39, 39, 14, 39, 39, 39, 20, 39, 39, 39, 40, 39, 39, 39, 32, 39, 39, 39, 39, 39, 39, 39, 4, 39, 39, 39, 14, 39, 39, 39, 17, 39, 39, 39, 48, 39, 39, 39, 14, 39, 39, 39, 11, 39, 39, 39, 5, 39, 39, 39, 10, 39, 39, 39, 42, 39, 39, 39, 39, 39, 39, 39, 14, 39, 39, 39, 21, 39, 39, 39, 21, 39, 39, 39, 30, 39, 39, 39, 6, 39, 39, 39, 21, 39, 39, 39, 32, 39, 39, 39, 5, 39, 39, 39, 18, 39, 39, 39, 39, 39, 39, 39, 30, 39, 39, 39, 21, 39, 39, 39, 39, 39, 39, 39, 19, 39, 39, 39, 5, 39, 39, 39, 47, 39, 39, 39, 20, 39, 39, 39, 0, 39, 39, 39, 39, 39, 39, 39, 9, 39, 39, 39, 49, 39, 39, 39, 43, 39, 39, 39, 39, 39, 39, 39, 44, 39, 39, 39, 13, 39, 39, 39, 9, 39, 39, 39, 36, 39, 39, 39, 43, 39, 39, 39, 39, 39, 39, 39, 20, 39, 39, 39, 3, 39, 39, 39, 14, 39, 39, 39, 20, 39, 39, 39, 39, 39, 39, 39, 25, 39, 39, 39, 3, 39, 39, 39, 14, 39, 39, 39, 30, 39, 39, 39, 39, 39, 39, 39, 40, 39, 39, 39, 42, 39, 39, 39, 39, 39, 39, 39, 6, 39, 39, 39, 21, 39, 39, 39, 18, 39, 39, 39, 5, 39, 39, 39, 10, 39, 39, 39, 39, 39, 39, 39, 40, 39, 39, 39, 21, 39, 39, 39, 31, 39, 39, 39, 5, 39, 39, 39, 42, 39, 39, 39, 20, 39, 39, 39, 40, 39, 39, 39, 22, 39, 39, 39, 14, 39, 39, 39, 20, 39, 39, 39, 40, 39, 39, 39, 30, 39, 39, 39, 21, 39, 39, 39, 39, 39, 39, 39, 2, 39, 39, 39, 30, 39, 39, 39, 4, 39, 39, 39, 4, 39, 39, 39, 30, 39, 39, 39, 17, 39, 39, 39, 40, 39, 39, 39, 21, 39, 39, 39, 22, 39, 39, 39, 39, 39, 39, 39, 14, 39, 39, 39, 4, 39, 39, 39, 4, 39, 39, 39, 5, 39, 39, 39, 22, 39, 39, 39, 14, 39, 39, 39, 20, 39, 39, 39, 40, 39, 39, 39, 30, 39, 39, 39, 21, 39, 39, 39, 42, 39, 39, 39, 39, 39, 39, 39, 20, 39, 39, 39, 3, 39, 39, 39, 14, 39, 39, 39, 20, 39, 39, 39, 39, 39, 39, 39, 42, 39, 39, 39, 3, 39, 39, 39, 5, 39, 39, 39, 39, 39, 39, 39, 3, 39, 39, 39, 14, 39, 39, 39, 42, 39, 39, 39, 39, 39, 39, 39, 6, 39, 39, 39, 42, 39, 39, 39, 5, 39, 39, 39, 18, 39, 39, 39, 39, 39, 39, 39, 3, 39, 39, 39, 5, 39, 39, 39, 10, 39, 39, 39, 39, 39, 39, 39, 47, 39, 39, 39, 30, 39, 39, 39, 42, 39, 39, 39, 40, 39, 39, 39, 20, 39, 39, 39, 40, 39, 39, 39, 30, 39, 39, 39, 21, 39, 39, 39, 39, 39, 39, 39, 20, 39, 39, 39, 30, 39, 39, 39, 39, 39, 39, 39, 38, 39, 39, 39, 5, 39, 39, 39, 21, 39, 39, 39, 5, 39, 39, 39, 2, 39, 39, 39, 40, 39, 39, 39, 20, 39, 39, 39, 39, 39, 39, 39, 3, 39, 39, 39, 5, 39, 39, 39, 10, 39, 39, 39, 39, 39, 39, 39, 2, 39, 39, 39, 14, 39, 39, 39, 48, 39, 39, 39, 40, 39, 39, 39, 4, 39, 39, 39, 12, 39, 39, 39, 33, 39, 39, 39, 42, 39, 39, 39, 39, 39, 39, 39, 42, 39, 39, 39, 3, 39, 39, 39, 40, 39, 39, 39, 47, 39, 39, 39, 47, 39, 39, 39, 40, 39, 39, 39, 21, 39, 39, 39, 22, 39, 39, 39, 39, 39, 39, 39, 32, 39, 39, 39, 30, 39, 39, 39, 48, 39, 39, 39, 47, 39, 39, 39, 14, 39, 39, 39, 21, 39, 39, 39, 12, 39, 39, 39, 0, 39, 39, 39, 39, 39, 39, 39, 46, 39, 39, 39, 25, 39, 39, 39, 3, 39, 39, 39, 10, 39, 39, 39, 40, 39, 39, 39, 42, 39, 39, 39, 39, 39, 39, 39, 50, 39, 39, 39, 4, 39, 39, 39, 5, 39, 39, 39, 47, 39, 39, 39, 30, 39, 39, 39, 21, 39, 39, 39, 40, 39, 39, 39, 42, 39, 39, 39, 41, 39, 39, 39, 39, 39, 39, 39, 23, 39, 39, 39, 8, 39, 39, 39, 26, 39, 39, 39, 41, 39, 39, 39, 45, 39, 39, 39, 5, 39, 39, 39, 20, 39, 39, 39, 20, 39, 39, 39, 12, 39, 39, 39, 39, 39, 39, 39, 28, 39, 39, 39, 48, 39, 39, 39, 14, 39, 39, 39, 22, 39, 39, 39, 5, 39, 39, 39, 42, 39, 39, 39, 41, 39, 39, 39, 2, 39, 39, 39, 40, 39, 39, 39, 4, 39, 39, 39, 5, 39, 39, 39, 29, 39, 39, 39, 39, 39, 39, 39, 37, 39, 39, 39, 3, 39, 39, 39, 5, 39, 39, 39, 39, 39, 39, 39, 35, 39, 39, 39, 30, 39, 39, 39, 6, 39, 39, 39, 42, 39, 39, 39, 5, 39, 39, 39, 39, 39, 39, 39, 34, 39, 39, 39, 31, 39, 39, 39, 5, 39, 39, 39, 10, 39, 39, 39, 42, 39, 39, 39, 40, 39, 39, 39, 22, 39, 39, 39, 3, 39, 39, 39, 20, 39, 39, 39, 39, 39, 39, 39, 14, 39, 39, 39, 21, 39, 39, 39, 18, 39, 39, 39, 39, 39, 39, 39, 27, 39, 39, 39, 5, 39, 39, 39, 2, 39, 39, 39, 30, 39, 39, 39, 10, 39, 39, 39, 48, 39, 39, 39, 39, 39, 39, 39, 25, 39, 39, 39, 30, 39, 39, 39, 48, 39, 39, 39, 48, 39, 39, 39, 40, 39, 39, 39, 20, 39, 39, 39, 20, 39, 39, 39, 5, 39, 39, 39, 5, 39, 39, 39, 39, 39, 39, 39, 30, 39, 39, 39, 21, 39, 39, 39, 39, 39, 39, 39, 1, 39, 39, 39, 30, 39, 39, 39, 21, 39, 39, 39, 18, 39, 39, 39, 14, 39, 39, 39, 12, 39, 39, 39, 39, 39, 39, 39, 42, 39, 39, 39, 30, 39, 39, 39, 6, 39, 39, 39, 22, 39, 39, 39, 3, 39, 39, 39, 20, 39, 39, 39, 39, 39, 39, 39, 18, 39, 39, 39, 30, 39, 39, 39, 32, 39, 39, 39, 6, 39, 39, 39, 48, 39, 39, 39, 5, 39, 39, 39, 21, 39, 39, 39, 20, 39, 39, 39, 42, 39, 39, 39, 39, 39, 39, 39, 2, 39, 39, 39, 10, 39, 39, 39, 30, 39, 39, 39, 48, 39, 39, 39, 39, 39, 39, 39, 37, 39, 39, 39, 10, 39, 39, 39, 14, 39, 39, 39, 21, 39, 39, 39, 42, 39, 39, 39, 47, 39, 39, 39, 30, 39, 39, 39, 10, 39, 39, 39, 20, 39, 39, 39, 14, 39, 39, 39, 20, 39, 39, 39, 40, 39, 39, 39, 30, 39, 39, 39, 21, 39, 39, 39, 39, 39, 39, 39, 19, 39, 39, 39, 5, 39, 39, 39, 32, 39, 39, 39, 10, 39, 39, 39, 5, 39, 39, 39, 20, 39, 39, 39, 14, 39, 39, 39, 10, 39, 39, 39, 12, 39, 39, 39, 39, 39, 39, 39, 24, 39, 39, 39, 4, 39, 39, 39, 14, 39, 39, 39, 40, 39, 39, 39, 21, 39, 39, 39, 5, 39, 39, 39, 39, 39, 39, 39, 25, 39, 39, 39, 3, 39, 39, 39, 14, 39, 39, 39, 30, 39, 39, 39, 39, 39, 39, 39, 14, 39, 39, 39, 42, 39, 39, 39, 39, 39, 39, 39, 40, 39, 39, 39, 20, 39, 39, 39, 39, 39, 39, 39, 40, 39, 39, 39, 21, 39, 39, 39, 31, 39, 39, 39, 5, 39, 39]\n",
      "----------------------------------------------------\n",
      "data length :  1999\n"
     ]
    }
   ],
   "source": [
    "# one hot encode\n",
    "char_to_int = dict((c, i) for i, c in enumerate(chars)) # \"enumerate\" retruns index and value. Convert it to dictionary\n",
    "int_to_char = dict((i, c) for i, c in enumerate(chars))\n",
    "print(char_to_int)\n",
    "print(\"----------------------------------------------------\")\n",
    "print(int_to_char)\n",
    "print(\"----------------------------------------------------\")\n",
    "# integer encode input data\n",
    "integer_encoded = [char_to_int[i] for i in article_text] # \"integer_encoded\" is a list which has a sequence converted from an original data to integers.\n",
    "print(integer_encoded)\n",
    "print(\"----------------------------------------------------\")\n",
    "print(\"data length : \", len(integer_encoded))"
   ]
  },
  {
   "cell_type": "code",
   "execution_count": 63,
   "metadata": {
    "colab": {},
    "colab_type": "code",
    "id": "bcpMSWDHFowT"
   },
   "outputs": [],
   "source": [
    "# hyperparameters\n",
    "\n",
    "iteration = 1000\n",
    "sequence_length = 40\n",
    "batch_size = round((txt_data_size /sequence_length)+0.5) # = math.ceil\n",
    "hidden_size = 500  # size of hidden layer of neurons.  \n",
    "learning_rate = 1e-1\n",
    "\n",
    "\n",
    "# model parameters\n",
    "\n",
    "W_xh = np.random.randn(hidden_size, num_chars)*0.01     # weight input -> hidden. \n",
    "W_hh = np.random.randn(hidden_size, hidden_size)*0.01   # weight hidden -> hidden\n",
    "W_hy = np.random.randn(num_chars, hidden_size)*0.01     # weight hidden -> output\n",
    "\n",
    "b_h = np.zeros((hidden_size, 1)) # hidden bias\n",
    "b_y = np.zeros((num_chars, 1)) # output bias\n",
    "\n",
    "h_prev = np.zeros((hidden_size,1)) # h_(t-1)"
   ]
  },
  {
   "cell_type": "markdown",
   "metadata": {
    "colab_type": "text",
    "id": "bkqoN86qWaI4"
   },
   "source": [
    "#### Forward propagation"
   ]
  },
  {
   "cell_type": "code",
   "execution_count": 64,
   "metadata": {
    "colab": {},
    "colab_type": "code",
    "id": "imfg_Ew0WdDL"
   },
   "outputs": [],
   "source": [
    "def forwardprop(inputs, targets, h_prev):\n",
    "        \n",
    "    # Since the RNN receives the sequence, the weights are not updated during one sequence.\n",
    "    xs, hs, ys, ps = {}, {}, {}, {} # dictionary\n",
    "    hs[-1] = np.copy(h_prev) # Copy previous hidden state vector to -1 key value.\n",
    "    loss = 0 # loss initialization\n",
    "    \n",
    "    for t in range(len(inputs)): # t is a \"time step\" and is used as a key(dic).  \n",
    "        \n",
    "        xs[t] = np.zeros((num_chars,1)) \n",
    "        xs[t][inputs[t]] = 1\n",
    "        hs[t] = np.tanh(np.dot(W_xh, xs[t]) + np.dot(W_hh, hs[t-1]) + b_h) # hidden state. \n",
    "        ys[t] = np.dot(W_hy, hs[t]) + b_y # unnormalized log probabilities for next chars\n",
    "        ps[t] = np.exp(ys[t]) / np.sum(np.exp(ys[t])) # probabilities for next chars. \n",
    "        \n",
    "        # Softmax. -> The sum of probabilities is 1 even without the exp() function, but all of the elements are positive through the exp() function.\n",
    "        loss += -np.log(ps[t][targets[t],0]) # softmax (cross-entropy loss). Efficient and simple code\n",
    "\n",
    "#         y_class = np.zeros((num_chars, 1)) \n",
    "#         y_class[targets[t]] =1\n",
    "#         loss += np.sum(y_class*(-np.log(ps[t]))) # softmax (cross-entropy loss)        \n",
    "\n",
    "    return loss, ps, hs, xs"
   ]
  },
  {
   "cell_type": "markdown",
   "metadata": {
    "colab_type": "text",
    "id": "zm6qwNiqWdMe"
   },
   "source": [
    "#### Backward propagation"
   ]
  },
  {
   "cell_type": "code",
   "execution_count": 65,
   "metadata": {
    "colab": {},
    "colab_type": "code",
    "id": "81qBiz_xWenI"
   },
   "outputs": [],
   "source": [
    "def backprop(ps, inputs, hs, xs, targets):\n",
    "\n",
    "    dWxh, dWhh, dWhy = np.zeros_like(W_xh), np.zeros_like(W_hh), np.zeros_like(W_hy) # make all zero matrices.\n",
    "    dbh, dby = np.zeros_like(b_h), np.zeros_like(b_y)\n",
    "    dhnext = np.zeros_like(hs[0]) # (hidden_size,1) \n",
    "\n",
    "    # reversed\n",
    "    for t in reversed(range(len(inputs))):\n",
    "        dy = np.copy(ps[t]) # shape (num_chars,1).  \"dy\" means \"dloss/dy\"\n",
    "        dy[targets[t]] -= 1 # backprop into y. After taking the soft max in the input vector, subtract 1 from the value of the element corresponding to the correct label.\n",
    "        dWhy += np.dot(dy, hs[t].T)\n",
    "        dby += dy \n",
    "        dh = np.dot(W_hy.T, dy) + dhnext # backprop into h. \n",
    "        dhraw = (1 - hs[t] * hs[t]) * dh # backprop through tanh nonlinearity #tanh'(x) = 1-tanh^2(x)\n",
    "        dbh += dhraw\n",
    "        dWxh += np.dot(dhraw, xs[t].T)\n",
    "        dWhh += np.dot(dhraw, hs[t-1].T)\n",
    "        dhnext = np.dot(W_hh.T, dhraw)\n",
    "    for dparam in [dWxh, dWhh, dWhy, dbh, dby]: \n",
    "        np.clip(dparam, -5, 5, out=dparam) # clip to mitigate exploding gradients.  \n",
    "    \n",
    "    return dWxh, dWhh, dWhy, dbh, dby"
   ]
  },
  {
   "cell_type": "markdown",
   "metadata": {
    "colab_type": "text",
    "id": "r8sBvcdbWfhi"
   },
   "source": [
    "#### Training"
   ]
  },
  {
   "cell_type": "code",
   "execution_count": null,
   "metadata": {
    "colab": {
     "base_uri": "https://localhost:8080/",
     "height": 225
    },
    "colab_type": "code",
    "id": "iA4RM70LWgO_",
    "outputId": "0fd64bca-f1b5-4be1-9e80-076308365598"
   },
   "outputs": [
    {
     "name": "stdout",
     "output_type": "stream",
     "text": [
      "iter 0, loss: 455.831374\n",
      "iter 100, loss: 28.138111\n",
      "iter 200, loss: 27.735123\n",
      "iter 300, loss: 27.469875\n",
      "iter 400, loss: 27.294104\n",
      "iter 500, loss: 27.166398\n",
      "iter 600, loss: 27.066906\n",
      "iter 700, loss: 26.985529\n",
      "iter 800, loss: 26.916652\n",
      "iter 900, loss: 26.856905\n",
      "CPU times: user 2h 24min 14s, sys: 1min 20s, total: 2h 25min 35s\n",
      "Wall time: 1h 21min 44s\n"
     ]
    }
   ],
   "source": [
    "%%time\n",
    "\n",
    "data_pointer = 0\n",
    "\n",
    "# memory variables for Adagrad\n",
    "mWxh, mWhh, mWhy = np.zeros_like(W_xh), np.zeros_like(W_hh), np.zeros_like(W_hy)\n",
    "mbh, mby = np.zeros_like(b_h), np.zeros_like(b_y) \n",
    "\n",
    "for i in range(iteration):\n",
    "    h_prev = np.zeros((hidden_size,1)) # reset RNN memory\n",
    "    data_pointer = 0 # go from start of data\n",
    "    \n",
    "    for b in range(batch_size):\n",
    "        \n",
    "        inputs = [char_to_int[ch] for ch in article_text[data_pointer:data_pointer+sequence_length]]\n",
    "        targets = [char_to_int[ch] for ch in article_text[data_pointer+1:data_pointer+sequence_length+1]] # t+1        \n",
    "            \n",
    "        if (data_pointer+sequence_length+1 >= len(article_text) and b == batch_size-1): # processing of the last part of the input data. \n",
    "#             targets.append(char_to_int[txt_data[0]])   # When the data doesn't fit, add the first char to the back.\n",
    "            targets.append(char_to_int[\" \"])   # When the data doesn't fit, add space(\" \") to the back.\n",
    "\n",
    "\n",
    "        # forward\n",
    "        loss, ps, hs, xs = forwardprop(inputs, targets, h_prev)\n",
    "#         print(loss)\n",
    "    \n",
    "        # backward\n",
    "        dWxh, dWhh, dWhy, dbh, dby = backprop(ps, inputs, hs, xs, targets) \n",
    "        \n",
    "        \n",
    "    # perform parameter update with Adagrad\n",
    "        for param, dparam, mem in zip([W_xh, W_hh, W_hy, b_h, b_y], \n",
    "                                    [dWxh, dWhh, dWhy, dbh, dby], \n",
    "                                    [mWxh, mWhh, mWhy, mbh, mby]):\n",
    "            mem += dparam * dparam # elementwise\n",
    "            param += -learning_rate * dparam / np.sqrt(mem + 1e-8) # adagrad update      \n",
    "    \n",
    "        data_pointer += sequence_length # move data pointer\n",
    "        \n",
    "    if i % 100 == 0:\n",
    "        print ('iter %d, loss: %f' % (i, loss)) # print progress"
   ]
  },
  {
   "cell_type": "markdown",
   "metadata": {
    "colab_type": "text",
    "id": "tjh8Ip68WgYV"
   },
   "source": [
    "#### Prediction"
   ]
  },
  {
   "cell_type": "code",
   "execution_count": null,
   "metadata": {
    "colab": {},
    "colab_type": "code",
    "id": "HDCxDNPG68Hx"
   },
   "outputs": [],
   "source": [
    "def predict(test_char, length):\n",
    "    x = np.zeros((num_chars, 1)) \n",
    "    x[char_to_int[test_char]] = 1\n",
    "    ixes = []\n",
    "    h = np.zeros((hidden_size,1))\n",
    "\n",
    "    for t in range(length):\n",
    "        h = np.tanh(np.dot(W_xh, x) + np.dot(W_hh, h) + b_h) \n",
    "        y = np.dot(W_hy, h) + b_y\n",
    "        p = np.exp(y) / np.sum(np.exp(y)) \n",
    "        ix = np.random.choice(range(num_chars), p=p.ravel()) # ravel -> rank0\n",
    "        # \"ix\" is a list of indexes selected according to the soft max probability.\n",
    "        x = np.zeros((num_chars, 1)) # init\n",
    "        x[ix] = 1 \n",
    "        ixes.append(ix) # list\n",
    "    txt = test_char + ''.join(int_to_char[i] for i in ixes)\n",
    "    print ('----\\n %s \\n----' % (txt, ))"
   ]
  },
  {
   "cell_type": "code",
   "execution_count": null,
   "metadata": {
    "colab": {
     "base_uri": "https://localhost:8080/",
     "height": 69
    },
    "colab_type": "code",
    "id": "nGVhl-Gxh6N6",
    "outputId": "e0c8b70b-fb50-4000-f4f8-a572539513db"
   },
   "outputs": [
    {
     "name": "stdout",
     "output_type": "stream",
     "text": [
      "----\n",
      " T   e   n   \n",
      "----\n"
     ]
    }
   ],
   "source": [
    "predict('T', 10)"
   ]
  },
  {
   "cell_type": "markdown",
   "metadata": {
    "colab_type": "text",
    "id": "xPsz-oefL1kP"
   },
   "source": [
    "Well... that's *vaguely* language-looking. Can you do better?"
   ]
  }
 ],
 "metadata": {
  "accelerator": "GPU",
  "colab": {
   "collapsed_sections": [],
   "name": "LS_DS_441_RNN_and_LSTM.ipynb",
   "provenance": [],
   "version": "0.3.2"
  },
  "kernelspec": {
   "display_name": "conda_tensorflow_p36",
   "language": "python",
   "name": "conda_tensorflow_p36"
  },
  "language_info": {
   "codemirror_mode": {
    "name": "ipython",
    "version": 3
   },
   "file_extension": ".py",
   "mimetype": "text/x-python",
   "name": "python",
   "nbconvert_exporter": "python",
   "pygments_lexer": "ipython3",
   "version": "3.6.5"
  }
 },
 "nbformat": 4,
 "nbformat_minor": 4
}
